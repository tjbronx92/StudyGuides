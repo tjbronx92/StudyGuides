{
 "cells": [
  {
   "cell_type": "markdown",
   "id": "e14680aa",
   "metadata": {},
   "source": [
    "# Service & Ingress\n",
    "- Exposing apps to The Internet"
   ]
  },
  {
   "cell_type": "markdown",
   "id": "d8d3abf6",
   "metadata": {},
   "source": [
    "## Service\n",
    "- Kubernetes Service decouples an app from its callers by providing a network URL, to a DNS name, to a set of Pod replicas. "
   ]
  },
  {
   "cell_type": "markdown",
   "id": "e1746bd8",
   "metadata": {},
   "source": [
    "### Types of Services\n",
    "1. ClusterIP\n",
    "    - If the Service type is not defined at the time of Service creation, a ClusterIP is the the default service type\n",
    "    - allows communiocation within the cluster (e.g. comminication between an apps frontend and backend).\n",
    "    - The range of IPs available are specified at the time of cluster ceratrtion using the option $\\texttt{service-cluster-ip-range}$\n",
    "    - To find the cluster IP a cluster run the command $\\texttt{kuberctl get svc <service\\_name>}$\n",
    "2. NodePort\n",
    "    - created if a app needs to be acceessed outside the cluster, by endpoints on the same netwok.\n",
    "    - Kubernete's control plane allocates a port from a range specified by the option $\\texttt{--service-node-port-range}$\n",
    "        - default range: $\\texttt{30000-32767}$\n",
    "    - $\\emph{Headless Service}$ - If load balancing is not required  you can set $\\texttt{.spec.clusterIP}$ to false. The app will not recieve a cluster IP.\n",
    "    - To create a NodePort Service run:\n",
    "        ```bash\n",
    "        kubectl create svc nodeport hello --tcp=80:8080\n",
    "        ```\n",
    "3. LoadBalancer\n",
    "    - Created if an application needs to be exposed to The Internet or WAN.\n",
    "    - Kubernetes creates a service similar to NodePort Service, and the $\\texttt{cloud-control-manager}$ at the same time creates a cloiud provider-specific load balancer.\n",
    "4. ExternalName"
   ]
  },
  {
   "cell_type": "markdown",
   "id": "73ea288d",
   "metadata": {},
   "source": [
    "EXAMPLE:\n",
    "- Using an imperative command to expse an app\n",
    "\n",
    "```bash\n",
    "kubectl expose deploy <app_name> --port 80 --target-port 8080 --name <service_name>\n",
    "```\n",
    "\n",
    "- Exposing an app declarativly (YAML file)\n",
    "\n",
    "```yaml\n",
    "apiVersion: v1\n",
    "kind: Service\n",
    "metadata:\n",
    "    labels:\n",
    "        app:logger\n",
    "    name: logger\n",
    "spec:\n",
    "    ports:\n",
    "    -   port: 80\n",
    "        protocol: TCP\n",
    "        targetPort: 8080\n",
    "    selector:\n",
    "        app: logger\n",
    "```\n",
    "\n",
    "$\\texttt{<port>}\\ \\textnormal{is the service port on which caller requests are recieved.}$ \n",
    "\n",
    "\n",
    "$\\texttt{<--target-port>}\\ \\textnormal{is the container port on the taget pod replica also know as a endpoint.}$"
   ]
  },
  {
   "cell_type": "markdown",
   "id": "40949f32",
   "metadata": {},
   "source": [
    "## Ingress\n",
    "- Ingress routes HTTP/S requests from outside the cluster to the service running inside the cluster.\n",
    "- If a Load Balancer is used, Kubernetes creates a cloud provider specific load balancer.\n",
    "    - Load Balancers are highly performant, but resource-intensive. \\\\\n",
    "    $\\emph{One LB per cluster is better then an LB per app.}$"
   ]
  }
 ],
 "metadata": {
  "language_info": {
   "name": "python"
  }
 },
 "nbformat": 4,
 "nbformat_minor": 5
}
