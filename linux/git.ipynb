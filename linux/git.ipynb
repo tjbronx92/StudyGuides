{
 "cells": [
  {
   "cell_type": "markdown",
   "id": "d66afe9d",
   "metadata": {},
   "source": [
    "# GIT Commands & Cheatsheet"
   ]
  },
  {
   "cell_type": "markdown",
   "id": "01253102",
   "metadata": {},
   "source": [
    "## Initialize GIT Folder"
   ]
  },
  {
   "cell_type": "markdown",
   "id": "3a5b281b",
   "metadata": {
    "vscode": {
     "languageId": "plaintext"
    }
   },
   "source": [
    "- navigate to folder\n",
    "```bash \n",
    "git init\n",
    "```"
   ]
  },
  {
   "cell_type": "markdown",
   "id": "f5d562eb",
   "metadata": {},
   "source": [
    "## Set GIT Username & Email"
   ]
  },
  {
   "cell_type": "markdown",
   "id": "6b5ed85b",
   "metadata": {},
   "source": [
    "- initialize global username and email\n",
    "```bash\n",
    "git config --global user.name {username}\n",
    "git config --global user.email {user email}\n",
    "```\n",
    "\n",
    "- to set username and email per project navigate to GIT directory and run:\n",
    "```bash\n",
    "git config user.name {username}\n",
    "git config user.email {user email}\n",
    "```"
   ]
  }
 ],
 "metadata": {
  "language_info": {
   "name": "python"
  }
 },
 "nbformat": 4,
 "nbformat_minor": 5
}
