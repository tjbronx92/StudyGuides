{
 "cells": [
  {
   "cell_type": "markdown",
   "id": "d66afe9d",
   "metadata": {},
   "source": [
    "# GIT Commands & Cheatsheet"
   ]
  },
  {
   "cell_type": "markdown",
   "id": "01253102",
   "metadata": {},
   "source": [
    "## Initialize GIT Folder"
   ]
  },
  {
   "cell_type": "markdown",
   "id": "3a5b281b",
   "metadata": {
    "vscode": {
     "languageId": "plaintext"
    }
   },
   "source": [
    "- to initilize project navigate to folder run:\n",
    "```bash \n",
    "git init\n",
    "```"
   ]
  },
  {
   "cell_type": "markdown",
   "id": "f5d562eb",
   "metadata": {},
   "source": [
    "## Set GIT Username & Email"
   ]
  },
  {
   "cell_type": "markdown",
   "id": "6b5ed85b",
   "metadata": {},
   "source": [
    "- to initialize username and email globally run:\n",
    "```bash\n",
    "git config --global user.name {username}\n",
    "git config --global user.email {user email}\n",
    "```\n",
    "\n",
    "- to set username and email per project navigate to GIT directory and run:\n",
    "```bash\n",
    "git config user.name {username}\n",
    "git config user.email {user email}\n",
    "```"
   ]
  },
  {
   "cell_type": "markdown",
   "id": "4aa5f92c",
   "metadata": {},
   "source": [
    "## Staging & Commiting Changes"
   ]
  },
  {
   "cell_type": "markdown",
   "id": "18fb72ba",
   "metadata": {},
   "source": [
    "|Step| Command | Description|\n",
    "|---|---|---|\n",
    "|stage | $\\texttt{git add {file(s)}}$| stores image of changes locally|\n",
    "|reset | $\\texttt{git reset {file(s)}}$ | undo staged file|\n",
    "|remove | $\\texttt{git rm {file(s)}}$ | remove file from project and stage changes |\n",
    "|commit| $\\texttt{git commit -m \"note about commit\"}$| push commit to remote repo|\n",
    "- use $\\texttt{git status}$ to view"
   ]
  },
  {
   "cell_type": "markdown",
   "id": "1bdc761b",
   "metadata": {},
   "source": [
    "## Branches"
   ]
  },
  {
   "cell_type": "markdown",
   "id": "ed3309d2",
   "metadata": {},
   "source": [
    "- create a new branch\n",
    "```bash\n",
    "```\n",
    "- view branches\n",
    "```bash\n",
    "```\n",
    "- switch branches\n",
    "```bash\n",
    "git checkout {branch_name}\n",
    "```"
   ]
  },
  {
   "cell_type": "markdown",
   "id": "5c87f493",
   "metadata": {},
   "source": []
  }
 ],
 "metadata": {
  "language_info": {
   "name": "python"
  }
 },
 "nbformat": 4,
 "nbformat_minor": 5
}
