{
 "cells": [
  {
   "cell_type": "markdown",
   "id": "7f102464",
   "metadata": {},
   "source": [
    "# Storage"
   ]
  },
  {
   "cell_type": "markdown",
   "id": "542ee747",
   "metadata": {},
   "source": [
    "### Manage File Systems \n",
    "- $\\texttt{lsblk}$ - List blocks on a device \n",
    "- $\\texttt{cfdisk}$ - Partition a drive"
   ]
  },
  {
   "cell_type": "markdown",
   "id": "4209e214",
   "metadata": {},
   "source": [
    "List partitions on a specific storage device:\n",
    "\n",
    "```bash\n",
    "sudo fdisk --list /dev/sdx\n",
    "```"
   ]
  },
  {
   "cell_type": "markdown",
   "id": "9c36fb0e",
   "metadata": {},
   "source": [
    "### SWAP Space"
   ]
  },
  {
   "cell_type": "markdown",
   "id": "a304f40e",
   "metadata": {},
   "source": []
  }
 ],
 "metadata": {
  "language_info": {
   "name": "python"
  }
 },
 "nbformat": 4,
 "nbformat_minor": 5
}
