{
 "cells": [
  {
   "cell_type": "markdown",
   "id": "7f102464",
   "metadata": {},
   "source": [
    "# Storage"
   ]
  },
  {
   "cell_type": "markdown",
   "id": "542ee747",
   "metadata": {},
   "source": [
    "### Manage File Systems \n",
    "- $\\texttt{lsblk}$ - List blocks on a device \n",
    "- $\\texttt{cfdisk}$ - Partition a drive\n",
    "- $\\texttt{/etc/fstab}$ - Defines which filesystems should be mounted at startup"
   ]
  },
  {
   "cell_type": "markdown",
   "id": "4209e214",
   "metadata": {},
   "source": [
    "List partitions on a specific storage device:\n",
    "\n",
    "```bash\n",
    "sudo fdisk --list /dev/sdx\n",
    "```"
   ]
  },
  {
   "cell_type": "markdown",
   "id": "339fde17",
   "metadata": {},
   "source": [
    "To $\\emph\\ Zero$ a disk\n",
    "```bash\n",
    "dd of=/dev/zero if=/dev/sdx bs=1M count=128\n",
    "```"
   ]
  },
  {
   "cell_type": "markdown",
   "id": "9c36fb0e",
   "metadata": {},
   "source": [
    "### SWAP Space"
   ]
  },
  {
   "cell_type": "markdown",
   "id": "a304f40e",
   "metadata": {},
   "source": [
    "To view SWAP areas run:\n",
    "\n",
    "```bash\n",
    "swapon --show\n",
    "```"
   ]
  },
  {
   "cell_type": "markdown",
   "id": "cd72e983",
   "metadata": {},
   "source": [
    "To format prospective SWAP area run:\n",
    "```bash\n",
    "sudo mkswap {file or partition}\n",
    "```"
   ]
  },
  {
   "cell_type": "markdown",
   "id": "4c3494ba",
   "metadata": {},
   "source": [
    "To activate SWAP area run:\n",
    "```bash\n",
    "sudo swapon {file or partition}\n",
    "```"
   ]
  },
  {
   "cell_type": "markdown",
   "id": "6472b4c9",
   "metadata": {},
   "source": [
    "To deactivate SWAP area run:\n",
    "```bash\n",
    "sudo swapoff {file or partition}\n",
    "```"
   ]
  },
  {
   "cell_type": "markdown",
   "id": "15621759",
   "metadata": {},
   "source": [
    "### Format Filesystems"
   ]
  },
  {
   "cell_type": "markdown",
   "id": "b683c7b9",
   "metadata": {},
   "source": [
    "$\\textit{By default Ubuntu uses the \\emph{ext4} filesystem and Fedora uses the \\emph{xfs}} filesystem.$"
   ]
  },
  {
   "cell_type": "markdown",
   "id": "9e640a42",
   "metadata": {},
   "source": [
    "To format an xfs filesystem\n",
    "```bash\n",
    "sudo mkfs.xfs /dev/sdx\n",
    "```\n",
    "\n",
    "To format an ext4 filesystem\n",
    "```bash\n",
    "sudo mkfs.ext4 /dev/sdx\n",
    "```"
   ]
  }
 ],
 "metadata": {
  "language_info": {
   "name": "python"
  }
 },
 "nbformat": 4,
 "nbformat_minor": 5
}
