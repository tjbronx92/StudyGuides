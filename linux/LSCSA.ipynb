{
 "cells": [
  {
   "cell_type": "markdown",
   "id": "530cd6d2",
   "metadata": {},
   "source": [
    "# Linux Foundation Certified System Administrator Study Guide (LFCS)"
   ]
  },
  {
   "cell_type": "markdown",
   "id": "f4e2e220",
   "metadata": {},
   "source": [
    "## Essential Commands"
   ]
  },
  {
   "cell_type": "markdown",
   "id": "b05521f4",
   "metadata": {},
   "source": [
    "### FIND"
   ]
  },
  {
   "cell_type": "markdown",
   "id": "bc5ecb32",
   "metadata": {},
   "source": [
    "To find the files with permission bit enabled for the user that owns them use below command\n",
    "\n",
    "```bash\n",
    "find /opt/findme/ -perm /u=x -type f | sudo tee /opt/foundthem.txt\n",
    "```"
   ]
  },
  {
   "cell_type": "markdown",
   "id": "6a5c08e3",
   "metadata": {},
   "source": [
    "To delete files that have the SETUID permission enabled\n",
    "\n",
    "```bash\n",
    "sudo find /opt/findme/ -type f -perm /u=s -exec rm {} \\;\n",
    "```"
   ]
  },
  {
   "cell_type": "markdown",
   "id": "fbcd4d0e",
   "metadata": {},
   "source": [
    "To find any file that is larger than 1KB and copy it to the /opt/ directory\n",
    "\n",
    "```bash\n",
    "sudo find /opt/findme/ -type f -size +1k -exec cp {} /opt/ \\;\n",
    "```"
   ]
  },
  {
   "cell_type": "markdown",
   "id": "7e413f5a",
   "metadata": {},
   "source": [
    "Run the below command to get the largest file:\n",
    "```bash\n",
    "sudo find /data -type f -exec du -h {} + | sort -rh | head -n 1\n",
    "```"
   ]
  },
  {
   "cell_type": "markdown",
   "id": "c76c13a6",
   "metadata": {},
   "source": [
    "Delete only the largest file:\n",
    "```bash\n",
    "sudo rm -rf /data/683/lf\n",
    "```"
   ]
  },
  {
   "cell_type": "markdown",
   "id": "d3a777de",
   "metadata": {},
   "source": [
    "### Swapiness"
   ]
  },
  {
   "cell_type": "markdown",
   "id": "fa3669a7",
   "metadata": {},
   "source": [
    "Setting vm.swappiness for the Current Session\n",
    "```bash\n",
    "sudo sysctl vm.swappiness=10\n",
    "```"
   ]
  },
  {
   "cell_type": "markdown",
   "id": "8e517196",
   "metadata": {},
   "source": [
    "Making the Change Persistent\n",
    "\n",
    "```bash\n",
    "echo \"vm.swappiness=10\" | sudo tee /etc/sysctl.d/99-swappiness.conf\n",
    "```"
   ]
  },
  {
   "cell_type": "markdown",
   "id": "a456eaab",
   "metadata": {},
   "source": [
    "## Users & Groups"
   ]
  },
  {
   "cell_type": "markdown",
   "id": "a645d4c2",
   "metadata": {},
   "source": [
    "### limits"
   ]
  },
  {
   "cell_type": "markdown",
   "id": "292b0860",
   "metadata": {},
   "source": [
    "To enforce limits on user jane and john edit the /etc/security/limits.conf file as below:\n",
    "```bash\n",
    "john hard nproc 30\n",
    "jane soft fsize 1024\n",
    "```"
   ]
  },
  {
   "cell_type": "markdown",
   "id": "ef4c939b",
   "metadata": {},
   "source": [
    "## Networking"
   ]
  },
  {
   "cell_type": "markdown",
   "id": "802be4a6",
   "metadata": {},
   "source": [
    "### lsof"
   ]
  },
  {
   "cell_type": "markdown",
   "id": "04febbf0",
   "metadata": {},
   "source": [
    "To find which application is listening on port 80, run below command:\n",
    "```bash\n",
    "sudo lsof -i :80\n",
    "```"
   ]
  },
  {
   "cell_type": "markdown",
   "id": "16610937",
   "metadata": {},
   "source": [
    "To find the master process of the application, run below command:\n",
    "```bash\n",
    "pgrep -a nginx\n",
    "```"
   ]
  },
  {
   "cell_type": "markdown",
   "id": "8e41ac96",
   "metadata": {},
   "source": [
    "To list the open files by the process run:\n",
    "```bash\n",
    "sudo lsof -p <PID>\n",
    "```"
   ]
  },
  {
   "cell_type": "markdown",
   "id": "6233f548",
   "metadata": {},
   "source": [
    "To get the device details run:\n",
    "```bash\n",
    "sudo lsof -p <PID> | awk '{print $9}' | while read file; do df $file; done \n",
    "```"
   ]
  },
  {
   "cell_type": "markdown",
   "id": "e1aa09b2",
   "metadata": {},
   "source": [
    "## Storage\n",
    "RHCSA Chapters 13 & 14"
   ]
  },
  {
   "cell_type": "markdown",
   "id": "2e50f1bf",
   "metadata": {},
   "source": [
    "Find the actual partition used by running the <code>pvs</code> command and store the actual device name in <code>/opt/devname.txt</code>"
   ]
  },
  {
   "cell_type": "markdown",
   "id": "804f21ca",
   "metadata": {},
   "source": [
    "Use mkswap to set up the file as Linux swap area:\n",
    "```bash\n",
    "sudo mkswap /swfile\n",
    "```"
   ]
  },
  {
   "cell_type": "markdown",
   "id": "470a801c",
   "metadata": {},
   "source": [
    "Activate the Swap File:\n",
    "```bash\n",
    "sudo swapon /swfile\n",
    "```"
   ]
  },
  {
   "cell_type": "markdown",
   "id": "af970671",
   "metadata": {},
   "source": [
    "To ensure that the swap file is used on every boot, you need to add it to the <code>/etc/fstab</code> file:\n",
    "```bash\n",
    "/swfile none swap sw 0 0\n",
    "```"
   ]
  },
  {
   "cell_type": "markdown",
   "id": "4d039611",
   "metadata": {},
   "source": []
  }
 ],
 "metadata": {
  "language_info": {
   "name": "python"
  }
 },
 "nbformat": 4,
 "nbformat_minor": 5
}
